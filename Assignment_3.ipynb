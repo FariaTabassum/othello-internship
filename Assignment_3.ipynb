{
  "nbformat": 4,
  "nbformat_minor": 0,
  "metadata": {
    "colab": {
      "provenance": [],
      "authorship_tag": "ABX9TyPUZ67nsh1M7ZvFQmYQqbRn",
      "include_colab_link": true
    },
    "kernelspec": {
      "name": "python3",
      "display_name": "Python 3"
    },
    "language_info": {
      "name": "python"
    }
  },
  "cells": [
    {
      "cell_type": "markdown",
      "metadata": {
        "id": "view-in-github",
        "colab_type": "text"
      },
      "source": [
        "<a href=\"https://colab.research.google.com/github/FariaTabassum/othello-internship/blob/main/Assignment_3.ipynb\" target=\"_parent\"><img src=\"https://colab.research.google.com/assets/colab-badge.svg\" alt=\"Open In Colab\"/></a>"
      ]
    },
    {
      "cell_type": "markdown",
      "source": [
        "\n",
        "1. Use a loop to display elements from a given list present at odd index positions.\n",
        "```\n",
        "# Input: [10, 20, 30, 40, 50, 60, 70, 80, 90, 100]\n",
        "Output: 20 40 60 80 100\n",
        "```\n",
        "\n"
      ],
      "metadata": {
        "id": "_oMuhybFf99K"
      }
    },
    {
      "cell_type": "code",
      "source": [
        "def odd_indices(lst):\n",
        "  odd_indice = []\n",
        "  for index in range(1, len(lst), 2):\n",
        "    odd_indice.append(lst[index])\n",
        "  return odd_indice\n",
        "\n",
        "#Uncomment the line below when your function is done\n",
        "print(odd_indices([10, 20, 30, 40, 50, 60, 70, 80, 90, 100]))"
      ],
      "metadata": {
        "colab": {
          "base_uri": "https://localhost:8080/"
        },
        "id": "vHzTnxSYNLXA",
        "outputId": "ae38bacf-1d4e-4228-bea0-d3e907842c2c"
      },
      "execution_count": 6,
      "outputs": [
        {
          "output_type": "stream",
          "name": "stdout",
          "text": [
            "[20, 40, 60, 80, 100]\n"
          ]
        }
      ]
    },
    {
      "cell_type": "markdown",
      "source": [
        "2. Calculate the cube of all numbers from 1 to a given number.\n",
        "\n",
        "```\n",
        "# Input: input number = 6\n",
        "\n",
        "Output:\n",
        "Current Number is : 1  and the cube is 1\n",
        "Current Number is : 2  and the cube is 8\n",
        "Current Number is : 3  and the cube is 27\n",
        "Current Number is : 4  and the cube is 64\n",
        "Current Number is : 5  and the cube is 125\n",
        "Current Number is : 6  and the cube is 216\n",
        "```\n",
        "\n"
      ],
      "metadata": {
        "id": "aGvgnBMRTzXS"
      }
    },
    {
      "cell_type": "code",
      "source": [
        "n=int(input(\"input number = \"))\n",
        "\n",
        "def cube(num):\n",
        "  return num * num * num\n",
        "\n",
        "for i in range(1,n+1):\n",
        "   cub = cube(i)\n",
        "   print(\"Current Number is : {0}  and the cube is {1}\".format(i, cub))\n"
      ],
      "metadata": {
        "colab": {
          "base_uri": "https://localhost:8080/"
        },
        "id": "V4O9oDMmTgg-",
        "outputId": "daba71eb-53f3-4dd9-adf1-226872d38a1b"
      },
      "execution_count": 18,
      "outputs": [
        {
          "output_type": "stream",
          "name": "stdout",
          "text": [
            "input number = 6\n",
            "Current Number is : 1  and the cube is 1\n",
            "Current Number is : 2  and the cube is 8\n",
            "Current Number is : 3  and the cube is 27\n",
            "Current Number is : 4  and the cube is 64\n",
            "Current Number is : 5  and the cube is 125\n",
            "Current Number is : 6  and the cube is 216\n"
          ]
        }
      ]
    },
    {
      "cell_type": "markdown",
      "source": [
        "\n",
        "3. Write a program to print the following start pattern using the for loop"
      ],
      "metadata": {
        "id": "1Kx5ltDpc9KZ"
      }
    },
    {
      "cell_type": "code",
      "source": [
        "rows = int(input())\n",
        "for i in range(0, rows):\n",
        "    for j in range(0, i + 1):\n",
        "        print(\"*\", end=' ')\n",
        "    print(\"\\r\")\n",
        "\n",
        "for i in range(rows, 0, -1):\n",
        "    for j in range(0, i - 1):\n",
        "        print(\"*\", end=' ')\n",
        "    print(\"\\r\")"
      ],
      "metadata": {
        "colab": {
          "base_uri": "https://localhost:8080/"
        },
        "id": "rSrsAj2Dc8r5",
        "outputId": "09b1f5d9-4b92-423e-8ab4-ecd665f3adc6"
      },
      "execution_count": 21,
      "outputs": [
        {
          "output_type": "stream",
          "name": "stdout",
          "text": [
            "5\n",
            "* \n",
            "* * \n",
            "* * * \n",
            "* * * * \n",
            "* * * * * \n",
            "* * * * \n",
            "* * * \n",
            "* * \n",
            "* \n",
            "\n"
          ]
        }
      ]
    },
    {
      "cell_type": "markdown",
      "source": [
        "\n",
        "4. Display numbers from -10 to -1 using for loop\n",
        "\n",
        "Output:\n",
        "-10\n",
        "-9\n",
        "-8\n",
        "-7\n",
        "-6\n",
        "-5\n",
        "-4\n",
        "-3\n",
        "-2\n",
        "-1"
      ],
      "metadata": {
        "id": "0Nsry3p2gFjD"
      }
    },
    {
      "cell_type": "code",
      "source": [
        "n=int(input())\n",
        "for i in range (n,0,-1):\n",
        "  print(-i)"
      ],
      "metadata": {
        "colab": {
          "base_uri": "https://localhost:8080/"
        },
        "id": "rODMO3M6gEUA",
        "outputId": "2cbcabd2-4659-4bfa-b2f5-cc63b59bb49e"
      },
      "execution_count": 32,
      "outputs": [
        {
          "output_type": "stream",
          "name": "stdout",
          "text": [
            "10\n",
            "-10\n",
            "-9\n",
            "-8\n",
            "-7\n",
            "-6\n",
            "-5\n",
            "-4\n",
            "-3\n",
            "-2\n",
            "-1\n"
          ]
        }
      ]
    }
  ]
}